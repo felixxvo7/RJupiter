{
 "cells": [
  {
   "cell_type": "markdown",
   "id": "b3d8fc1e",
   "metadata": {},
   "source": [
 
    "Create a function change of basis matrix taking as argument two lists of vectors, origin\n",
    "and destination, and returning the change of basis matrix Pdestination←origin. The function\n",
    "will ensure that the lists are indeed bases and that operations are indeed possible.\n",
    "As an illustration of the fact that your function does what is it meant to do, work through\n",
    "Problem 3 in the mathematical part using this function."
   ]
  },
  {
   "cell_type": "markdown",
   "id": "5828a07c",
   "metadata": {},
   "source": [
    "$$X = \\begin{bmatrix}1 \\\\\n",
    "0 \\\\\n",
    "-1\n",
    "\\end{bmatrix}$$"
   ]
  },
  {
   "cell_type": "code",
   "execution_count": 1,
   "id": "32c150c2",
   "metadata": {},
   "outputs": [
    {
     "data": {
      "text/html": [
       "<table class=\"dataframe\">\n",
       "<caption>A matrix: 3 × 1 of type dbl</caption>\n",
       "<tbody>\n",
       "\t<tr><td> 1</td></tr>\n",
       "\t<tr><td> 0</td></tr>\n",
       "\t<tr><td>-1</td></tr>\n",
       "</tbody>\n",
       "</table>\n"
      ],
      "text/latex": [
       "A matrix: 3 × 1 of type dbl\n",
       "\\begin{tabular}{l}\n",
       "\t  1\\\\\n",
       "\t  0\\\\\n",
       "\t -1\\\\\n",
       "\\end{tabular}\n"
      ],
      "text/markdown": [
       "\n",
       "A matrix: 3 × 1 of type dbl\n",
       "\n",
       "|  1 |\n",
       "|  0 |\n",
       "| -1 |\n",
       "\n"
      ],
      "text/plain": [
       "     [,1]\n",
       "[1,]  1  \n",
       "[2,]  0  \n",
       "[3,] -1  "
      ]
     },
     "metadata": {},
     "output_type": "display_data"
    }
   ],
   "source": [
    "X= matrix(c(1,0,-1),nr = 3)\n",
    "X\n"
   ]
  },
  {
   "cell_type": "markdown",
   "id": "86b4c7d1",
   "metadata": {},
   "source": [
    "$$B = \\begin{bmatrix}1 & 0 & 0\\\\\n",
    "0 & 1 & 0\\\\\n",
    "0 & 0 & 1\n",
    "\\end{bmatrix}$$\n",
    "\n",
    "$$C = \\begin{bmatrix}1 & 0 & 0\\\\\n",
    "1 & 1 & 0\\\\\n",
    "1 & 1 & 1\n",
    "\\end{bmatrix}$$"
   ]
  },
  {
   "cell_type": "code",
   "execution_count": 69,
   "id": "ab08c98c",
   "metadata": {},
   "outputs": [],
   "source": [
    "V1=  matrix(c(1,0,0),nr = 3)\n",
    "V2= matrix(c(0,1,0),nr = 3)\n",
    "V3= matrix(c(0,0,1),nr = 3)\n",
    "\n",
    "W1=  matrix(c(1,1,1),nr = 3)\n",
    "W2= matrix(c(0,1,1),nr = 3)\n",
    "W3= matrix(c(0,0,1),nr = 3)"
   ]
  },
  {
   "cell_type": "code",
   "execution_count": 70,
   "id": "2a0e3049",
   "metadata": {
    "scrolled": true
   },
   "outputs": [
    {
     "data": {
      "text/html": [
       "<table class=\"dataframe\">\n",
       "<caption>A matrix: 3 × 3 of type dbl</caption>\n",
       "<tbody>\n",
       "\t<tr><td>1</td><td>0</td><td>0</td></tr>\n",
       "\t<tr><td>0</td><td>1</td><td>0</td></tr>\n",
       "\t<tr><td>0</td><td>0</td><td>1</td></tr>\n",
       "</tbody>\n",
       "</table>\n"
      ],
      "text/latex": [
       "A matrix: 3 × 3 of type dbl\n",
       "\\begin{tabular}{lll}\n",
       "\t 1 & 0 & 0\\\\\n",
       "\t 0 & 1 & 0\\\\\n",
       "\t 0 & 0 & 1\\\\\n",
       "\\end{tabular}\n"
      ],
      "text/markdown": [
       "\n",
       "A matrix: 3 × 3 of type dbl\n",
       "\n",
       "| 1 | 0 | 0 |\n",
       "| 0 | 1 | 0 |\n",
       "| 0 | 0 | 1 |\n",
       "\n"
      ],
      "text/plain": [
       "     [,1] [,2] [,3]\n",
       "[1,] 1    0    0   \n",
       "[2,] 0    1    0   \n",
       "[3,] 0    0    1   "
      ]
     },
     "metadata": {},
     "output_type": "display_data"
    },
    {
     "data": {
      "text/html": [
       "<table class=\"dataframe\">\n",
       "<caption>A matrix: 3 × 3 of type dbl</caption>\n",
       "<tbody>\n",
       "\t<tr><td>1</td><td>0</td><td>0</td></tr>\n",
       "\t<tr><td>1</td><td>1</td><td>0</td></tr>\n",
       "\t<tr><td>1</td><td>1</td><td>1</td></tr>\n",
       "</tbody>\n",
       "</table>\n"
      ],
      "text/latex": [
       "A matrix: 3 × 3 of type dbl\n",
       "\\begin{tabular}{lll}\n",
       "\t 1 & 0 & 0\\\\\n",
       "\t 1 & 1 & 0\\\\\n",
       "\t 1 & 1 & 1\\\\\n",
       "\\end{tabular}\n"
      ],
      "text/markdown": [
       "\n",
       "A matrix: 3 × 3 of type dbl\n",
       "\n",
       "| 1 | 0 | 0 |\n",
       "| 1 | 1 | 0 |\n",
       "| 1 | 1 | 1 |\n",
       "\n"
      ],
      "text/plain": [
       "     [,1] [,2] [,3]\n",
       "[1,] 1    0    0   \n",
       "[2,] 1    1    0   \n",
       "[3,] 1    1    1   "
      ]
     },
     "metadata": {},
     "output_type": "display_data"
    }
   ],
   "source": [
    "B = matrix(c(V1,V2,V3), nr = 3)\n",
    "B\n",
    "#combination of basis vector\n",
    "C = matrix(c(W1,W2,W3), nr = 3)\n",
    "C\n"
   ]
  },
  {
   "cell_type": "markdown",
   "id": "18969b06",
   "metadata": {},
   "source": [
    "### Change Basis Matrix function"
   ]
  },
  {
   "cell_type": "code",
   "execution_count": 101,
   "id": "8989ebef",
   "metadata": {},
   "outputs": [],
   "source": [
    "Change_Basis_Matrix <- function(matrixD , matrixO ){\n",
    "    if( ncol(matrixO) == 1){\n",
    "        POD = solve(matrixD,matrixO)\n",
    "    }\n",
    "    else{\n",
    "\n",
    "for(num in 1:ncol(matrixD)){\n",
    "Ox = matrix(c(matrixO[,num]))\n",
    "Ox\n",
    "x = solve(matrixD,Ox)\n",
    "print(x)\n",
    "if(num == 1){\n",
    "POD <- matrix (x) \n",
    "}else {\n",
    "POD = matrix(c(POD,x),ncol = num)\n",
    "}\n",
    "  }\n",
    "        }\n",
    " \n",
    "return (POD)   \n",
    "}\n"
   ]
  },
  {
   "cell_type": "markdown",
   "id": "56a7ec8f",
   "metadata": {},
   "source": [
    "#### Find the changes in Basis of the matrix \n",
    "Find the change of basis matrix PC←B from B to C.\n",
    "\n",
    "Find the change of basis matrix PB←C from C to B."
   ]
  },
  {
   "cell_type": "code",
   "execution_count": 100,
   "id": "3e55ca59",
   "metadata": {},
   "outputs": [
    {
     "name": "stdout",
     "output_type": "stream",
     "text": [
      "     [,1]\n",
      "[1,]    1\n",
      "[2,]   -1\n",
      "[3,]    0\n",
      "     [,1]\n",
      "[1,]    0\n",
      "[2,]    1\n",
      "[3,]   -1\n",
      "     [,1]\n",
      "[1,]    0\n",
      "[2,]    0\n",
      "[3,]    1\n"
     ]
    },
    {
     "data": {
      "text/html": [
       "<table class=\"dataframe\">\n",
       "<caption>A matrix: 3 × 3 of type dbl</caption>\n",
       "<tbody>\n",
       "\t<tr><td> 1</td><td> 0</td><td>0</td></tr>\n",
       "\t<tr><td>-1</td><td> 1</td><td>0</td></tr>\n",
       "\t<tr><td> 0</td><td>-1</td><td>1</td></tr>\n",
       "</tbody>\n",
       "</table>\n"
      ],
      "text/latex": [
       "A matrix: 3 × 3 of type dbl\n",
       "\\begin{tabular}{lll}\n",
       "\t  1 &  0 & 0\\\\\n",
       "\t -1 &  1 & 0\\\\\n",
       "\t  0 & -1 & 1\\\\\n",
       "\\end{tabular}\n"
      ],
      "text/markdown": [
       "\n",
       "A matrix: 3 × 3 of type dbl\n",
       "\n",
       "|  1 |  0 | 0 |\n",
       "| -1 |  1 | 0 |\n",
       "|  0 | -1 | 1 |\n",
       "\n"
      ],
      "text/plain": [
       "     [,1] [,2] [,3]\n",
       "[1,]  1    0   0   \n",
       "[2,] -1    1   0   \n",
       "[3,]  0   -1   1   "
      ]
     },
     "metadata": {},
     "output_type": "display_data"
    }
   ],
   "source": [
    "Change_Basis_Matrix(C,B)"
   ]
  },
  {
   "cell_type": "code",
   "execution_count": 102,
   "id": "fdfb6dc7",
   "metadata": {
    "scrolled": true
   },
   "outputs": [
    {
     "name": "stdout",
     "output_type": "stream",
     "text": [
      "     [,1]\n",
      "[1,]    1\n",
      "[2,]    1\n",
      "[3,]    1\n",
      "     [,1]\n",
      "[1,]    0\n",
      "[2,]    1\n",
      "[3,]    1\n",
      "     [,1]\n",
      "[1,]    0\n",
      "[2,]    0\n",
      "[3,]    1\n"
     ]
    },
    {
     "data": {
      "text/html": [
       "<table class=\"dataframe\">\n",
       "<caption>A matrix: 3 × 3 of type dbl</caption>\n",
       "<tbody>\n",
       "\t<tr><td>1</td><td>0</td><td>0</td></tr>\n",
       "\t<tr><td>1</td><td>1</td><td>0</td></tr>\n",
       "\t<tr><td>1</td><td>1</td><td>1</td></tr>\n",
       "</tbody>\n",
       "</table>\n"
      ],
      "text/latex": [
       "A matrix: 3 × 3 of type dbl\n",
       "\\begin{tabular}{lll}\n",
       "\t 1 & 0 & 0\\\\\n",
       "\t 1 & 1 & 0\\\\\n",
       "\t 1 & 1 & 1\\\\\n",
       "\\end{tabular}\n"
      ],
      "text/markdown": [
       "\n",
       "A matrix: 3 × 3 of type dbl\n",
       "\n",
       "| 1 | 0 | 0 |\n",
       "| 1 | 1 | 0 |\n",
       "| 1 | 1 | 1 |\n",
       "\n"
      ],
      "text/plain": [
       "     [,1] [,2] [,3]\n",
       "[1,] 1    0    0   \n",
       "[2,] 1    1    0   \n",
       "[3,] 1    1    1   "
      ]
     },
     "metadata": {},
     "output_type": "display_data"
    }
   ],
   "source": [
    "Change_Basis_Matrix(B,C)"
   ]
  },
  {
   "cell_type": "markdown",
   "id": "b29726fe",
   "metadata": {},
   "source": [
    "#### Find the changes in Basis of the matrix \n",
    "Find the coordinate vectors [x]B and [x]C of x with respect to the bases (of R3) B and C, respectively."
   ]
  },
  {
   "cell_type": "code",
   "execution_count": 103,
   "id": "16a9f0b9",
   "metadata": {},
   "outputs": [
    {
     "data": {
      "text/html": [
       "<table class=\"dataframe\">\n",
       "<caption>A matrix: 3 × 1 of type dbl</caption>\n",
       "<tbody>\n",
       "\t<tr><td> 1</td></tr>\n",
       "\t<tr><td> 0</td></tr>\n",
       "\t<tr><td>-1</td></tr>\n",
       "</tbody>\n",
       "</table>\n"
      ],
      "text/latex": [
       "A matrix: 3 × 1 of type dbl\n",
       "\\begin{tabular}{l}\n",
       "\t  1\\\\\n",
       "\t  0\\\\\n",
       "\t -1\\\\\n",
       "\\end{tabular}\n"
      ],
      "text/markdown": [
       "\n",
       "A matrix: 3 × 1 of type dbl\n",
       "\n",
       "|  1 |\n",
       "|  0 |\n",
       "| -1 |\n",
       "\n"
      ],
      "text/plain": [
       "     [,1]\n",
       "[1,]  1  \n",
       "[2,]  0  \n",
       "[3,] -1  "
      ]
     },
     "metadata": {},
     "output_type": "display_data"
    }
   ],
   "source": [
    "Change_Basis_Matrix(B,X)"
   ]
  },
  {
   "cell_type": "code",
   "execution_count": 104,
   "id": "2aa83654",
   "metadata": {
    "scrolled": true
   },
   "outputs": [
    {
     "data": {
      "text/html": [
       "<table class=\"dataframe\">\n",
       "<caption>A matrix: 3 × 1 of type dbl</caption>\n",
       "<tbody>\n",
       "\t<tr><td> 1</td></tr>\n",
       "\t<tr><td>-1</td></tr>\n",
       "\t<tr><td>-1</td></tr>\n",
       "</tbody>\n",
       "</table>\n"
      ],
      "text/latex": [
       "A matrix: 3 × 1 of type dbl\n",
       "\\begin{tabular}{l}\n",
       "\t  1\\\\\n",
       "\t -1\\\\\n",
       "\t -1\\\\\n",
       "\\end{tabular}\n"
      ],
      "text/markdown": [
       "\n",
       "A matrix: 3 × 1 of type dbl\n",
       "\n",
       "|  1 |\n",
       "| -1 |\n",
       "| -1 |\n",
       "\n"
      ],
      "text/plain": [
       "     [,1]\n",
       "[1,]  1  \n",
       "[2,] -1  \n",
       "[3,] -1  "
      ]
     },
     "metadata": {},
     "output_type": "display_data"
    }
   ],
   "source": [
    "Change_Basis_Matrix(C,X)"
   ]
  },
  {
   "cell_type": "markdown",
   "id": "6f61ba49",
   "metadata": {},
   "source": [
    "#### Find the change of basis matrix PC←B from B to C to compute [X]C and compare to your answer to [X]C"
   ]
  },
  {
   "cell_type": "code",
   "execution_count": 106,
   "id": "3610ac0f",
   "metadata": {
    "scrolled": true
   },
   "outputs": [
    {
     "name": "stdout",
     "output_type": "stream",
     "text": [
      "     [,1]\n",
      "[1,]    1\n",
      "[2,]   -1\n",
      "[3,]    0\n",
      "     [,1]\n",
      "[1,]    0\n",
      "[2,]    1\n",
      "[3,]   -1\n",
      "     [,1]\n",
      "[1,]    0\n",
      "[2,]    0\n",
      "[3,]    1\n"
     ]
    },
    {
     "data": {
      "text/html": [
       "<table class=\"dataframe\">\n",
       "<caption>A matrix: 3 × 1 of type dbl</caption>\n",
       "<tbody>\n",
       "\t<tr><td> 1</td></tr>\n",
       "\t<tr><td>-1</td></tr>\n",
       "\t<tr><td>-1</td></tr>\n",
       "</tbody>\n",
       "</table>\n"
      ],
      "text/latex": [
       "A matrix: 3 × 1 of type dbl\n",
       "\\begin{tabular}{l}\n",
       "\t  1\\\\\n",
       "\t -1\\\\\n",
       "\t -1\\\\\n",
       "\\end{tabular}\n"
      ],
      "text/markdown": [
       "\n",
       "A matrix: 3 × 1 of type dbl\n",
       "\n",
       "|  1 |\n",
       "| -1 |\n",
       "| -1 |\n",
       "\n"
      ],
      "text/plain": [
       "     [,1]\n",
       "[1,]  1  \n",
       "[2,] -1  \n",
       "[3,] -1  "
      ]
     },
     "metadata": {},
     "output_type": "display_data"
    },
    {
     "data": {
      "text/html": [
       "<table class=\"dataframe\">\n",
       "<caption>A matrix: 3 × 1 of type lgl</caption>\n",
       "<tbody>\n",
       "\t<tr><td>TRUE</td></tr>\n",
       "\t<tr><td>TRUE</td></tr>\n",
       "\t<tr><td>TRUE</td></tr>\n",
       "</tbody>\n",
       "</table>\n"
      ],
      "text/latex": [
       "A matrix: 3 × 1 of type lgl\n",
       "\\begin{tabular}{l}\n",
       "\t TRUE\\\\\n",
       "\t TRUE\\\\\n",
       "\t TRUE\\\\\n",
       "\\end{tabular}\n"
      ],
      "text/markdown": [
       "\n",
       "A matrix: 3 × 1 of type lgl\n",
       "\n",
       "| TRUE |\n",
       "| TRUE |\n",
       "| TRUE |\n",
       "\n"
      ],
      "text/plain": [
       "     [,1]\n",
       "[1,] TRUE\n",
       "[2,] TRUE\n",
       "[3,] TRUE"
      ]
     },
     "metadata": {},
     "output_type": "display_data"
    }
   ],
   "source": [
    "Test = Change_Basis_Matrix(C,B) %*% Change_Basis_Matrix(B,X)\n",
    "Test\n",
    "Test == Change_Basis_Matrix(C,X)"
   ]
  },
  {
   "cell_type": "code",
   "execution_count": null,
   "id": "58d66e7e",
   "metadata": {},
   "outputs": [],
   "source": []
  }
 ],
 "metadata": {
  "kernelspec": {
   "display_name": "R",
   "language": "R",
   "name": "ir"
  },
  "language_info": {
   "codemirror_mode": "r",
   "file_extension": ".r",
   "mimetype": "text/x-r-source",
   "name": "R",
   "pygments_lexer": "r",
   "version": "4.3.1"
  }
 },
 "nbformat": 4,
 "nbformat_minor": 5
}
